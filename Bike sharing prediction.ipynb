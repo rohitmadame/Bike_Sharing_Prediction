{
 "cells": [
  {
   "cell_type": "code",
   "execution_count": null,
   "id": "46bf7301",
   "metadata": {},
   "outputs": [],
   "source": [
    "# importing important libraries\n",
    "import pandas as pd\n",
    "import numpy as np\n",
    "import matplotlib.pyplot as plt\n",
    "import seaborn as sns\n",
    "\n",
    "# setting max display column limit to 20\n",
    "pd.set_option(\"display.max_columns\", 20)\n",
    "\n",
    "#set style\n",
    "plt.style.use('seaborn')\n",
    "\n",
    "\n",
    "\n",
    "\n",
    "import warnings\n",
    "warnings.filterwarnings('ignore')"
   ]
  },
  {
   "cell_type": "code",
   "execution_count": null,
   "id": "82404388",
   "metadata": {},
   "outputs": [],
   "source": [
    "#Importing dataset\n",
    "\n",
    "df=pd.read_csv('SeoulBikeData.csv')"
   ]
  },
  {
   "cell_type": "code",
   "execution_count": null,
   "id": "f161a468",
   "metadata": {},
   "outputs": [],
   "source": [
    "#First 5 rows of dataset\n",
    "df.head()"
   ]
  },
  {
   "cell_type": "code",
   "execution_count": null,
   "id": "73256da5",
   "metadata": {},
   "outputs": [],
   "source": [
    "#Last five rows of dataset\n",
    "\n",
    "df.tail()"
   ]
  },
  {
   "cell_type": "code",
   "execution_count": null,
   "id": "13accf80",
   "metadata": {},
   "outputs": [],
   "source": [
    "#Information about dataset\n",
    "\n",
    "df.info()"
   ]
  },
  {
   "cell_type": "code",
   "execution_count": null,
   "id": "78d8f17c",
   "metadata": {},
   "outputs": [],
   "source": [
    "#Getting summary about dataset\n",
    "df.describe()"
   ]
  },
  {
   "cell_type": "code",
   "execution_count": null,
   "id": "710f5bf9",
   "metadata": {},
   "outputs": [],
   "source": [
    "#Renaming columns name as it contains some symbol\n",
    "\n",
    "df.rename(columns={'Rented Bike Count':'Rented Bike Count','Temperature(�C)':'Temperature','Humidity(%)':'Humidity','Wind speed (m/s)':'Wind speed',\n",
    "                       'Visibility (10m)':'Visibility','Dew point temperature(�C)':'Dew point temperature', 'Solar Radiation (MJ/m2)':'Solar Radiation',\n",
    "                        'Rainfall(mm)':'Rainfall','Snowfall (cm)':'Snowfall','Functioning Day':'Functioning Day'},inplace=True)"
   ]
  },
  {
   "cell_type": "code",
   "execution_count": null,
   "id": "49614119",
   "metadata": {},
   "outputs": [],
   "source": [
    "#checking for null values\n",
    "\n",
    "df.isnull().sum()"
   ]
  },
  {
   "cell_type": "code",
   "execution_count": null,
   "id": "e6629138",
   "metadata": {},
   "outputs": [],
   "source": [
    "#Duplicate values\n",
    "\n",
    "df.duplicated().sum()"
   ]
  },
  {
   "cell_type": "code",
   "execution_count": null,
   "id": "36cd9255",
   "metadata": {},
   "outputs": [],
   "source": [
    "#Heatmap for missing values\n",
    "\n",
    "plt.figure(figsize=(12,6))\n",
    "sns.heatmap(df.isnull(),cmap='viridis')\n",
    "plt.title(\"Missing Values\")"
   ]
  },
  {
   "cell_type": "code",
   "execution_count": null,
   "id": "5f9bdbf5",
   "metadata": {},
   "outputs": [],
   "source": []
  },
  {
   "cell_type": "code",
   "execution_count": null,
   "id": "3177c091",
   "metadata": {},
   "outputs": [],
   "source": [
    "# Change The datatype of Date columns to extract 'Month' ,'Day', \"year\". so  further we can analyze the Bike rentals with respect to year months and days.\n",
    "df['Date']=df['Date'].astype('datetime64[ns]')\n"
   ]
  },
  {
   "cell_type": "code",
   "execution_count": null,
   "id": "f2cc4e52",
   "metadata": {},
   "outputs": [],
   "source": [
    "# Creating new columns 'Month' ,'Day.\n",
    "df['Month']=df['Date'].dt.month\n",
    "\n",
    "df['Day']=df['Date'].dt.day_name()                  \n",
    "                                                    "
   ]
  },
  {
   "cell_type": "code",
   "execution_count": null,
   "id": "d465a08a",
   "metadata": {},
   "outputs": [],
   "source": [
    "#  Creating new column and Encoding with 1 if its weekend and 0 if its Weekdays.\n",
    "\n",
    "df['Weekend']=df['Day'].apply(lambda x: 1 if x=='Saturday' or x=='Sunday' else 0)"
   ]
  },
  {
   "cell_type": "code",
   "execution_count": null,
   "id": "95f3713d",
   "metadata": {},
   "outputs": [],
   "source": [
    "# check the Newly Created columns\n",
    "\n",
    "df.head()"
   ]
  },
  {
   "cell_type": "code",
   "execution_count": null,
   "id": "c71b7f39",
   "metadata": {},
   "outputs": [],
   "source": [
    "# Now We can Drop Day and Date columns.\n",
    "\n",
    "df.drop(['Date',\"Day\"],axis=1 ,inplace=True)"
   ]
  },
  {
   "cell_type": "code",
   "execution_count": null,
   "id": "28a22b59",
   "metadata": {},
   "outputs": [],
   "source": [
    "# counts for Seasons categories\n",
    "\n",
    "df['Seasons'].value_counts()"
   ]
  },
  {
   "cell_type": "code",
   "execution_count": null,
   "id": "be57a3c1",
   "metadata": {},
   "outputs": [],
   "source": [
    "# counts for Holiday categories\n",
    "\n",
    "df['Holiday'].value_counts()"
   ]
  },
  {
   "cell_type": "code",
   "execution_count": null,
   "id": "475792a4",
   "metadata": {},
   "outputs": [],
   "source": [
    "# Since Temperature and Dew point temperature are corelated with each other. We will drop dew point temperature.\n",
    "df.drop('Dew point temperature',inplace=True,axis=1)"
   ]
  },
  {
   "cell_type": "code",
   "execution_count": null,
   "id": "3041b777",
   "metadata": {
    "scrolled": true
   },
   "outputs": [],
   "source": [
    "df"
   ]
  },
  {
   "cell_type": "markdown",
   "id": "a2e8d78f",
   "metadata": {},
   "source": [
    "# EDA"
   ]
  },
  {
   "cell_type": "code",
   "execution_count": null,
   "id": "0d71b4b7",
   "metadata": {
    "scrolled": true
   },
   "outputs": [],
   "source": [
    "#Distplot for the dependant variable\n",
    "\n",
    "sns.distplot(df['Rented Bike Count'])"
   ]
  },
  {
   "cell_type": "markdown",
   "id": "4d2ec317",
   "metadata": {},
   "source": [
    "Rented Bike count has right skewness"
   ]
  },
  {
   "cell_type": "code",
   "execution_count": null,
   "id": "8e33a608",
   "metadata": {
    "scrolled": true
   },
   "outputs": [],
   "source": [
    "#Boxplot for Rented Bike Count\n",
    "sns.boxplot(y=df['Rented Bike Count'])"
   ]
  },
  {
   "cell_type": "markdown",
   "id": "4841ccc2",
   "metadata": {},
   "source": [
    "As We can see that this boxplot contains outliers"
   ]
  },
  {
   "cell_type": "code",
   "execution_count": null,
   "id": "ca7a0678",
   "metadata": {
    "scrolled": true
   },
   "outputs": [],
   "source": [
    "sns.boxplot(y=np.sqrt(df['Rented Bike Count']))"
   ]
  },
  {
   "cell_type": "markdown",
   "id": "627626c9",
   "metadata": {},
   "source": [
    "After applying sqrt function to the Rented bike count we can conclude that all outliers are excluded."
   ]
  },
  {
   "cell_type": "markdown",
   "id": "7d149c4e",
   "metadata": {},
   "source": [
    "Visualizing box plot for all numeric variables."
   ]
  },
  {
   "cell_type": "code",
   "execution_count": null,
   "id": "b7706539",
   "metadata": {},
   "outputs": [],
   "source": [
    "numeric_variable=['Temperature','Humidity','Wind speed','Visibility','Solar Radiation','Rainfall','Snowfall']"
   ]
  },
  {
   "cell_type": "code",
   "execution_count": null,
   "id": "ee28b995",
   "metadata": {},
   "outputs": [],
   "source": [
    "for i in  numeric_variable:\n",
    "    plt.figure(figsize=(12,6))\n",
    "    sns.boxplot(y=df[i])\n",
    "    plt.title(i)"
   ]
  },
  {
   "cell_type": "markdown",
   "id": "a7408a2f",
   "metadata": {},
   "source": [
    "Checking Relation between Rented Bike Count and other independent variable. We can see that windspeed has some outliers.Also the rainfall,snowfall and solar radiation has outliers"
   ]
  },
  {
   "cell_type": "code",
   "execution_count": null,
   "id": "892d99c2",
   "metadata": {},
   "outputs": [],
   "source": [
    "categorical=['Hour','Seasons','Holiday','Functioning Day','Month','Weekend']\n",
    "\n",
    "for i in categorical:\n",
    "    plt.figure(figsize=(12,6))\n",
    "    sns.barplot(x=df[i],y=df['Rented Bike Count'])\n",
    "    plt.title(i)"
   ]
  },
  {
   "cell_type": "code",
   "execution_count": null,
   "id": "4a691fed",
   "metadata": {
    "scrolled": true
   },
   "outputs": [],
   "source": [
    "plt.plot(df.groupby('Seasons').sum()['Rented Bike Count'])"
   ]
  },
  {
   "cell_type": "code",
   "execution_count": null,
   "id": "bab793f0",
   "metadata": {},
   "outputs": [],
   "source": [
    "for i in numeric_variable:\n",
    "    plt.figure(figsize=(12,6))\n",
    "    sns.lineplot(y=np.sqrt(df['Rented Bike Count']),x=df[i],color='green')\n",
    "    "
   ]
  },
  {
   "cell_type": "code",
   "execution_count": null,
   "id": "e9d44e7c",
   "metadata": {},
   "outputs": [],
   "source": [
    "plt.figure(figsize=(12,6))\n",
    "sns.lineplot(y=df['Rented Bike Count'],x=df['Hour'],hue=df['Holiday'])\n",
    "plt.xticks(np.arange(0,24))\n",
    "plt.show()"
   ]
  },
  {
   "cell_type": "code",
   "execution_count": null,
   "id": "7df83d6b",
   "metadata": {},
   "outputs": [],
   "source": [
    "plt.figure(figsize=(12,6))\n",
    "sns.lineplot(y=df['Rented Bike Count'],x=df['Hour'],hue=df['Seasons'])\n",
    "plt.xticks(np.arange(0,24))\n",
    "plt.show()"
   ]
  },
  {
   "cell_type": "code",
   "execution_count": null,
   "id": "393b441b",
   "metadata": {},
   "outputs": [],
   "source": [
    "plt.figure(figsize=(12,6))\n",
    "df.groupby('Hour').sum()['Rented Bike Count'].plot.bar(color='red')\n",
    "\n"
   ]
  },
  {
   "cell_type": "code",
   "execution_count": null,
   "id": "f993459a",
   "metadata": {},
   "outputs": [],
   "source": [
    "df[]"
   ]
  },
  {
   "cell_type": "code",
   "execution_count": null,
   "id": "51665063",
   "metadata": {},
   "outputs": [],
   "source": [
    "plt.figure(figsize=(12,6))\n",
    "sns.pointplot(y=df['Rented Bike Count'],x=df['Hour'],hue=df['Month'])\n",
    "plt.xticks(np.arange(0,24))\n",
    "plt.show()"
   ]
  },
  {
   "cell_type": "code",
   "execution_count": null,
   "id": "d2c68caf",
   "metadata": {},
   "outputs": [],
   "source": [
    "plt.figure(figsize=(12,6))\n",
    "df.groupby('Month').sum()['Rented Bike Count'].plot.bar(color='orange')\n"
   ]
  },
  {
   "cell_type": "code",
   "execution_count": null,
   "id": "c272bf82",
   "metadata": {},
   "outputs": [],
   "source": [
    "plt.figure(figsize=(12,6))\n",
    "sns.heatmap(df.corr(),annot=True)"
   ]
  },
  {
   "cell_type": "code",
   "execution_count": null,
   "id": "26e4b9c8",
   "metadata": {},
   "outputs": [],
   "source": []
  },
  {
   "cell_type": "code",
   "execution_count": null,
   "id": "e7938abc",
   "metadata": {},
   "outputs": [],
   "source": []
  },
  {
   "cell_type": "code",
   "execution_count": null,
   "id": "9e805d5c",
   "metadata": {},
   "outputs": [],
   "source": []
  },
  {
   "cell_type": "code",
   "execution_count": null,
   "id": "02719625",
   "metadata": {},
   "outputs": [],
   "source": []
  },
  {
   "cell_type": "code",
   "execution_count": null,
   "id": "87f374c9",
   "metadata": {},
   "outputs": [],
   "source": []
  },
  {
   "cell_type": "code",
   "execution_count": null,
   "id": "096ad4a0",
   "metadata": {},
   "outputs": [],
   "source": []
  },
  {
   "cell_type": "code",
   "execution_count": null,
   "id": "ba8fefe5",
   "metadata": {},
   "outputs": [],
   "source": []
  },
  {
   "cell_type": "code",
   "execution_count": null,
   "id": "1176ee94",
   "metadata": {},
   "outputs": [],
   "source": []
  },
  {
   "cell_type": "code",
   "execution_count": null,
   "id": "87d66290",
   "metadata": {},
   "outputs": [],
   "source": []
  },
  {
   "cell_type": "code",
   "execution_count": null,
   "id": "ca518349",
   "metadata": {},
   "outputs": [],
   "source": []
  },
  {
   "cell_type": "code",
   "execution_count": null,
   "id": "9e00ca17",
   "metadata": {},
   "outputs": [],
   "source": []
  },
  {
   "cell_type": "code",
   "execution_count": null,
   "id": "9b83e5b0",
   "metadata": {},
   "outputs": [],
   "source": []
  },
  {
   "cell_type": "code",
   "execution_count": null,
   "id": "0385da25",
   "metadata": {},
   "outputs": [],
   "source": []
  },
  {
   "cell_type": "code",
   "execution_count": null,
   "id": "1fcdeddc",
   "metadata": {},
   "outputs": [],
   "source": []
  },
  {
   "cell_type": "code",
   "execution_count": null,
   "id": "035cd8b4",
   "metadata": {},
   "outputs": [],
   "source": []
  },
  {
   "cell_type": "code",
   "execution_count": null,
   "id": "d6b2039b",
   "metadata": {},
   "outputs": [],
   "source": []
  },
  {
   "cell_type": "code",
   "execution_count": null,
   "id": "809420e0",
   "metadata": {},
   "outputs": [],
   "source": []
  },
  {
   "cell_type": "code",
   "execution_count": null,
   "id": "804c7525",
   "metadata": {},
   "outputs": [],
   "source": []
  },
  {
   "cell_type": "code",
   "execution_count": null,
   "id": "47e750a1",
   "metadata": {},
   "outputs": [],
   "source": [
    "# from statsmodels.stats.outliers_influence import variance_inflation_factor"
   ]
  },
  {
   "cell_type": "code",
   "execution_count": null,
   "id": "5db7c4fc",
   "metadata": {},
   "outputs": [],
   "source": [
    "# #vif=pd.DataFrame()\n",
    "\n",
    "# def calc_val(X):\n",
    "#     vif['Variables']=X.columns\n",
    "#     vif['VIF']=[variance_inflation_factor(X.values,i) for i in range(X.shape[1])]\n",
    "#     return (vif)"
   ]
  },
  {
   "cell_type": "code",
   "execution_count": null,
   "id": "1c499e55",
   "metadata": {},
   "outputs": [],
   "source": [
    "# calc_val(df[[i for i in df.describe().columns if i not in ['Rented_Bike_Count']]])"
   ]
  },
  {
   "cell_type": "code",
   "execution_count": null,
   "id": "148b4c54",
   "metadata": {},
   "outputs": [],
   "source": [
    "# df.drop(['Humidity','Visibility'],axis=1,inplace=True)"
   ]
  },
  {
   "cell_type": "code",
   "execution_count": null,
   "id": "c05ba056",
   "metadata": {},
   "outputs": [],
   "source": [
    "# df=pd.get_dummies(df,columns=['Seasons'],prefix='Seasons',drop_first=True)"
   ]
  },
  {
   "cell_type": "code",
   "execution_count": null,
   "id": "25fada41",
   "metadata": {},
   "outputs": [],
   "source": [
    "# df['Holiday']=pd.get_dummies(df.Holiday)"
   ]
  },
  {
   "cell_type": "code",
   "execution_count": null,
   "id": "c3af23e8",
   "metadata": {},
   "outputs": [],
   "source": [
    "# df['Functioning_Day']=df['Functioning_Day'].map({'Yes':1, 'No':0})"
   ]
  },
  {
   "cell_type": "code",
   "execution_count": null,
   "id": "445dff27",
   "metadata": {},
   "outputs": [],
   "source": [
    "# X=df.drop('Rented_Bike_Count',axis=1)\n",
    "# y=df['Rented_Bike_Count']"
   ]
  },
  {
   "cell_type": "code",
   "execution_count": null,
   "id": "8c28367d",
   "metadata": {},
   "outputs": [],
   "source": [
    "# #Create test and train data\n",
    "# from sklearn.model_selection import train_test_split\n",
    "# X_train, X_test, y_train, y_test = train_test_split(X,y, test_size=0.3, random_state=0)\n",
    "# print(X_train.shape)\n",
    "# print(X_test.shape)"
   ]
  },
  {
   "cell_type": "code",
   "execution_count": null,
   "id": "467f3599",
   "metadata": {},
   "outputs": [],
   "source": [
    "df"
   ]
  },
  {
   "cell_type": "code",
   "execution_count": null,
   "id": "513ee397",
   "metadata": {},
   "outputs": [],
   "source": [
    "#import the packages\n",
    "# from sklearn.linear_model import LinearRegression\n"
   ]
  },
  {
   "cell_type": "code",
   "execution_count": null,
   "id": "6607a021",
   "metadata": {},
   "outputs": [],
   "source": [
    "# lr=LinearRegression()"
   ]
  },
  {
   "cell_type": "code",
   "execution_count": null,
   "id": "67953445",
   "metadata": {},
   "outputs": [],
   "source": [
    "# lr.fit(X_train,y_train)"
   ]
  },
  {
   "cell_type": "code",
   "execution_count": null,
   "id": "5db5ad2f",
   "metadata": {},
   "outputs": [],
   "source": [
    "# from sklearn.metrics import mean_squared_error,r2_score,accuracy_score"
   ]
  },
  {
   "cell_type": "code",
   "execution_count": null,
   "id": "56939885",
   "metadata": {},
   "outputs": [],
   "source": [
    "# lr.score(X_train, y_train)"
   ]
  },
  {
   "cell_type": "code",
   "execution_count": null,
   "id": "9ed5c1c4",
   "metadata": {},
   "outputs": [],
   "source": [
    "# from sklearn.linear_model import Ridge"
   ]
  },
  {
   "cell_type": "code",
   "execution_count": null,
   "id": "359c176f",
   "metadata": {},
   "outputs": [],
   "source": [
    "# rg=Ridge(alpha=0.1)"
   ]
  },
  {
   "cell_type": "code",
   "execution_count": null,
   "id": "036797b6",
   "metadata": {},
   "outputs": [],
   "source": [
    "# rg.fit(X_train,y_train)"
   ]
  },
  {
   "cell_type": "code",
   "execution_count": null,
   "id": "87ecfa04",
   "metadata": {},
   "outputs": [],
   "source": [
    "# rg_pred=rg.predict(X_test)"
   ]
  },
  {
   "cell_type": "code",
   "execution_count": null,
   "id": "f24074ec",
   "metadata": {},
   "outputs": [],
   "source": [
    "# rg_pred"
   ]
  },
  {
   "cell_type": "code",
   "execution_count": null,
   "id": "592713d4",
   "metadata": {},
   "outputs": [],
   "source": [
    "# rg.score(X_train,y_train)"
   ]
  },
  {
   "cell_type": "code",
   "execution_count": null,
   "id": "e21bd2bf",
   "metadata": {},
   "outputs": [],
   "source": [
    "# from sklearn.linear_model import Lasso"
   ]
  },
  {
   "cell_type": "code",
   "execution_count": null,
   "id": "64e27dff",
   "metadata": {},
   "outputs": [],
   "source": [
    "# ls=Lasso()"
   ]
  },
  {
   "cell_type": "code",
   "execution_count": null,
   "id": "6fb33c3a",
   "metadata": {},
   "outputs": [],
   "source": [
    "# ls.fit(X_train,y_train)"
   ]
  },
  {
   "cell_type": "code",
   "execution_count": null,
   "id": "903b653c",
   "metadata": {},
   "outputs": [],
   "source": [
    "# ls.score(X_train,y_train)"
   ]
  },
  {
   "cell_type": "code",
   "execution_count": null,
   "id": "4b2b43be",
   "metadata": {},
   "outputs": [],
   "source": []
  }
 ],
 "metadata": {
  "kernelspec": {
   "display_name": "Python 3",
   "language": "python",
   "name": "python3"
  },
  "language_info": {
   "codemirror_mode": {
    "name": "ipython",
    "version": 3
   },
   "file_extension": ".py",
   "mimetype": "text/x-python",
   "name": "python",
   "nbconvert_exporter": "python",
   "pygments_lexer": "ipython3",
   "version": "3.9.5"
  }
 },
 "nbformat": 4,
 "nbformat_minor": 5
}
